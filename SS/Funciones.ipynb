{
 "cells": [
  {
   "cell_type": "markdown",
   "id": "hybrid-milan",
   "metadata": {},
   "source": [
    "# Funciones\n",
    "\n",
    "En este notebook se abarcarán los temas de declaración de funciones, `Duck-typing`, funciones mutables y no mutables y `Broadcasting`.\n",
    "\n",
    "## Declaración de funciones\n",
    "\n",
    "La sintaxis para declarar una función está dada por:\n",
    "\n",
    "```julia\n",
    "function *nombre*(*variable*)\n",
    "    *cuerpo*\n",
    "end\n",
    "```\n",
    "\n",
    "El ejemplo más sencillo de una función podría ser un *saludador*"
   ]
  },
  {
   "cell_type": "code",
   "execution_count": 1,
   "id": "straight-logistics",
   "metadata": {},
   "outputs": [
    {
     "data": {
      "text/plain": [
       "saludador (generic function with 1 method)"
      ]
     },
     "execution_count": 1,
     "metadata": {},
     "output_type": "execute_result"
    }
   ],
   "source": [
    "function salu1(nombre)\n",
    "    println(\"Hola $nombre\")\n",
    "end"
   ]
  },
  {
   "cell_type": "code",
   "execution_count": 3,
   "id": "selected-appliance",
   "metadata": {},
   "outputs": [
    {
     "name": "stdout",
     "output_type": "stream",
     "text": [
      "Hola Diego\n"
     ]
    }
   ],
   "source": [
    "saludador(\"Diego\")"
   ]
  },
  {
   "cell_type": "markdown",
   "id": "trying-password",
   "metadata": {},
   "source": [
    "Otra forma de declarar una función es:\n",
    "\n",
    "```julia\n",
    "*nombre*(*variable*) = *cuerpo*\n",
    "```"
   ]
  },
  {
   "cell_type": "code",
   "execution_count": 4,
   "id": "motivated-closing",
   "metadata": {},
   "outputs": [
    {
     "data": {
      "text/plain": [
       "salu2 (generic function with 1 method)"
      ]
     },
     "execution_count": 4,
     "metadata": {},
     "output_type": "execute_result"
    }
   ],
   "source": [
    "salu2(nombre) = \"Hola $nombre\""
   ]
  },
  {
   "cell_type": "code",
   "execution_count": 5,
   "id": "simplified-bridal",
   "metadata": {},
   "outputs": [
    {
     "data": {
      "text/plain": [
       "\"Hola Diego\""
      ]
     },
     "execution_count": 5,
     "metadata": {},
     "output_type": "execute_result"
    }
   ],
   "source": [
    "salu2(\"Diego\")"
   ]
  },
  {
   "cell_type": "markdown",
   "id": "charged-bennett",
   "metadata": {},
   "source": [
    "Finalmente, se pueden definir funciones \"anónimas\" y se escriben de la siguiente forma:\n",
    "\n",
    "```julia\n",
    "*nombre* = *variable* -> *cuerpo*\n",
    "```"
   ]
  },
  {
   "cell_type": "code",
   "execution_count": 6,
   "id": "different-harbor",
   "metadata": {},
   "outputs": [
    {
     "data": {
      "text/plain": [
       "#1 (generic function with 1 method)"
      ]
     },
     "execution_count": 6,
     "metadata": {},
     "output_type": "execute_result"
    }
   ],
   "source": [
    "salu3 = nombre -> println(\"Hola $nombre\")"
   ]
  },
  {
   "cell_type": "code",
   "execution_count": 7,
   "id": "designing-cannon",
   "metadata": {},
   "outputs": [
    {
     "name": "stdout",
     "output_type": "stream",
     "text": [
      "Hola Diego\n"
     ]
    }
   ],
   "source": [
    "salu3(\"Diego\")"
   ]
  },
  {
   "cell_type": "markdown",
   "id": "sitting-marble",
   "metadata": {},
   "source": [
    "## Duck-Typing\n",
    "\n",
    "En general, las funciones de Julia van a funcionar con cualquier tipo de variable que se pueda operar, por ejemplo, el saludador no solo requiere de un `string` para funcionar, incluso puede tomar números"
   ]
  },
  {
   "cell_type": "code",
   "execution_count": 8,
   "id": "vocational-external",
   "metadata": {},
   "outputs": [
    {
     "data": {
      "text/plain": [
       "\"Hola 26\""
      ]
     },
     "execution_count": 8,
     "metadata": {},
     "output_type": "execute_result"
    }
   ],
   "source": [
    "salu2(26)"
   ]
  },
  {
   "cell_type": "markdown",
   "id": "super-suite",
   "metadata": {},
   "source": [
    "Por otro lado si definimos una función que eleve al cuadrado, podemos notar que también funciona para una matriz pero no para un vector"
   ]
  },
  {
   "cell_type": "code",
   "execution_count": 21,
   "id": "simplified-contrast",
   "metadata": {},
   "outputs": [
    {
     "data": {
      "text/plain": [
       "f (generic function with 1 method)"
      ]
     },
     "execution_count": 21,
     "metadata": {},
     "output_type": "execute_result"
    }
   ],
   "source": [
    "f(x) = x^2"
   ]
  },
  {
   "cell_type": "code",
   "execution_count": 22,
   "id": "automated-sender",
   "metadata": {},
   "outputs": [
    {
     "data": {
      "text/plain": [
       "3×3 Array{Float64,2}:\n",
       " 0.921837  1.67856   1.33586\n",
       " 0.258699  0.603648  0.23469\n",
       " 0.302068  0.847615  0.913462"
      ]
     },
     "execution_count": 22,
     "metadata": {},
     "output_type": "execute_result"
    }
   ],
   "source": [
    "A = rand(3,3)\n",
    "f(A)"
   ]
  },
  {
   "cell_type": "code",
   "execution_count": 23,
   "id": "suited-proportion",
   "metadata": {},
   "outputs": [
    {
     "ename": "LoadError",
     "evalue": "\u001b[91mMethodError: no method matching ^(::Array{Float64,1}, ::Int64)\u001b[39m\n\u001b[91m\u001b[0mClosest candidates are:\u001b[39m\n\u001b[91m\u001b[0m  ^(\u001b[91m::Irrational{:ℯ}\u001b[39m, ::Integer) at mathconstants.jl:91\u001b[39m\n\u001b[91m\u001b[0m  ^(\u001b[91m::Irrational{:ℯ}\u001b[39m, ::Number) at mathconstants.jl:91\u001b[39m\n\u001b[91m\u001b[0m  ^(\u001b[91m::Float16\u001b[39m, ::Integer) at math.jl:915\u001b[39m\n\u001b[91m\u001b[0m  ...\u001b[39m",
     "output_type": "error",
     "traceback": [
      "\u001b[91mMethodError: no method matching ^(::Array{Float64,1}, ::Int64)\u001b[39m\n\u001b[91m\u001b[0mClosest candidates are:\u001b[39m\n\u001b[91m\u001b[0m  ^(\u001b[91m::Irrational{:ℯ}\u001b[39m, ::Integer) at mathconstants.jl:91\u001b[39m\n\u001b[91m\u001b[0m  ^(\u001b[91m::Irrational{:ℯ}\u001b[39m, ::Number) at mathconstants.jl:91\u001b[39m\n\u001b[91m\u001b[0m  ^(\u001b[91m::Float16\u001b[39m, ::Integer) at math.jl:915\u001b[39m\n\u001b[91m\u001b[0m  ...\u001b[39m",
      "",
      "Stacktrace:",
      " [1] macro expansion at ./none:0 [inlined]",
      " [2] literal_pow at ./none:0 [inlined]",
      " [3] f(::Array{Float64,1}) at ./In[21]:1",
      " [4] top-level scope at In[23]:2",
      " [5] include_string(::Function, ::Module, ::String, ::String) at ./loading.jl:1091"
     ]
    }
   ],
   "source": [
    "v = rand(3)\n",
    "f(v)"
   ]
  },
  {
   "cell_type": "markdown",
   "id": "finnish-guard",
   "metadata": {},
   "source": [
    "Esto se debe a que está bien definido el elevar al cuadrado a una matriz, pero en el caso del vector no lo está.\n",
    "\n",
    "## Funciones mutables y no mutables\n",
    "\n",
    "Cuando se tiene una función cuya terminación sea `!`, estas serán mutables, es decir que cambiarán el valor del argumento de dicha función. Por otro lado, cuando no se tiene `!`, la función entregará el valor al evaluar la función pero la variable original permanece intacta. Por ejemplo:"
   ]
  },
  {
   "cell_type": "code",
   "execution_count": 24,
   "id": "introductory-mexican",
   "metadata": {},
   "outputs": [
    {
     "data": {
      "text/plain": [
       "3-element Array{Int64,1}:\n",
       " 3\n",
       " 5\n",
       " 2"
      ]
     },
     "execution_count": 24,
     "metadata": {},
     "output_type": "execute_result"
    }
   ],
   "source": [
    "v = [3, 5, 2]"
   ]
  },
  {
   "cell_type": "code",
   "execution_count": 25,
   "id": "worthy-playlist",
   "metadata": {},
   "outputs": [
    {
     "data": {
      "text/plain": [
       "3-element Array{Int64,1}:\n",
       " 2\n",
       " 3\n",
       " 5"
      ]
     },
     "execution_count": 25,
     "metadata": {},
     "output_type": "execute_result"
    }
   ],
   "source": [
    "sort(v)"
   ]
  },
  {
   "cell_type": "code",
   "execution_count": 26,
   "id": "official-rocket",
   "metadata": {},
   "outputs": [
    {
     "data": {
      "text/plain": [
       "3-element Array{Int64,1}:\n",
       " 3\n",
       " 5\n",
       " 2"
      ]
     },
     "execution_count": 26,
     "metadata": {},
     "output_type": "execute_result"
    }
   ],
   "source": [
    "v"
   ]
  },
  {
   "cell_type": "code",
   "execution_count": 27,
   "id": "stable-richards",
   "metadata": {},
   "outputs": [
    {
     "data": {
      "text/plain": [
       "3-element Array{Int64,1}:\n",
       " 2\n",
       " 3\n",
       " 5"
      ]
     },
     "execution_count": 27,
     "metadata": {},
     "output_type": "execute_result"
    }
   ],
   "source": [
    "sort!(v)"
   ]
  },
  {
   "cell_type": "code",
   "execution_count": 28,
   "id": "inclusive-uruguay",
   "metadata": {},
   "outputs": [
    {
     "data": {
      "text/plain": [
       "3-element Array{Int64,1}:\n",
       " 2\n",
       " 3\n",
       " 5"
      ]
     },
     "execution_count": 28,
     "metadata": {},
     "output_type": "execute_result"
    }
   ],
   "source": [
    "v"
   ]
  },
  {
   "cell_type": "markdown",
   "id": "expected-robinson",
   "metadata": {},
   "source": [
    "## Broadcasting\n",
    "\n",
    "Al colocar `.` sobre una función evaluada en un arreglo, esta va a aplicar la función sobre cada entrada del arreglo en lugar del arreglo completo. Por ejemplo, utilizando la función `f` definida anteriormente podemos entender la diferencia entre `f()` y `f.()`:"
   ]
  },
  {
   "cell_type": "code",
   "execution_count": 29,
   "id": "patient-cathedral",
   "metadata": {},
   "outputs": [
    {
     "data": {
      "text/plain": [
       "3×3 Array{Int64,2}:\n",
       " 1  2  3\n",
       " 4  5  6\n",
       " 7  8  9"
      ]
     },
     "execution_count": 29,
     "metadata": {},
     "output_type": "execute_result"
    }
   ],
   "source": [
    "A = [i + 3*j for j in 0:2, i in 1:3]"
   ]
  },
  {
   "cell_type": "code",
   "execution_count": 30,
   "id": "controlled-initial",
   "metadata": {},
   "outputs": [
    {
     "data": {
      "text/plain": [
       "3×3 Array{Int64,2}:\n",
       "  30   36   42\n",
       "  66   81   96\n",
       " 102  126  150"
      ]
     },
     "execution_count": 30,
     "metadata": {},
     "output_type": "execute_result"
    }
   ],
   "source": [
    "f(A)"
   ]
  },
  {
   "cell_type": "code",
   "execution_count": 31,
   "id": "complex-password",
   "metadata": {},
   "outputs": [
    {
     "data": {
      "text/plain": [
       "3×3 Array{Int64,2}:\n",
       "  1   4   9\n",
       " 16  25  36\n",
       " 49  64  81"
      ]
     },
     "execution_count": 31,
     "metadata": {},
     "output_type": "execute_result"
    }
   ],
   "source": [
    "f.(A)"
   ]
  },
  {
   "cell_type": "markdown",
   "id": "modular-discharge",
   "metadata": {},
   "source": [
    "Podemos notar que esto soluciona el problema del vector ya que el cuadrado de cada entrada del vector si está definida"
   ]
  },
  {
   "cell_type": "code",
   "execution_count": 32,
   "id": "wanted-stick",
   "metadata": {},
   "outputs": [
    {
     "data": {
      "text/plain": [
       "3-element Array{Float64,1}:\n",
       " 0.651343549070436\n",
       " 0.8356551185971306\n",
       " 0.0463307528625021"
      ]
     },
     "execution_count": 32,
     "metadata": {},
     "output_type": "execute_result"
    }
   ],
   "source": [
    "v = rand(3)"
   ]
  },
  {
   "cell_type": "code",
   "execution_count": 33,
   "id": "narrow-chart",
   "metadata": {},
   "outputs": [
    {
     "data": {
      "text/plain": [
       "3-element Array{Float64,1}:\n",
       " 0.4242484189156715\n",
       " 0.6983194772375844\n",
       " 0.0021465386608062464"
      ]
     },
     "execution_count": 33,
     "metadata": {},
     "output_type": "execute_result"
    }
   ],
   "source": [
    "f.(v)"
   ]
  },
  {
   "cell_type": "code",
   "execution_count": 34,
   "id": "automated-yemen",
   "metadata": {},
   "outputs": [
    {
     "ename": "LoadError",
     "evalue": "\u001b[91mMethodError: no method matching ^(::Array{Float64,1}, ::Int64)\u001b[39m\n\u001b[91m\u001b[0mClosest candidates are:\u001b[39m\n\u001b[91m\u001b[0m  ^(\u001b[91m::Irrational{:ℯ}\u001b[39m, ::Integer) at mathconstants.jl:91\u001b[39m\n\u001b[91m\u001b[0m  ^(\u001b[91m::Irrational{:ℯ}\u001b[39m, ::Number) at mathconstants.jl:91\u001b[39m\n\u001b[91m\u001b[0m  ^(\u001b[91m::Float16\u001b[39m, ::Integer) at math.jl:915\u001b[39m\n\u001b[91m\u001b[0m  ...\u001b[39m",
     "output_type": "error",
     "traceback": [
      "\u001b[91mMethodError: no method matching ^(::Array{Float64,1}, ::Int64)\u001b[39m\n\u001b[91m\u001b[0mClosest candidates are:\u001b[39m\n\u001b[91m\u001b[0m  ^(\u001b[91m::Irrational{:ℯ}\u001b[39m, ::Integer) at mathconstants.jl:91\u001b[39m\n\u001b[91m\u001b[0m  ^(\u001b[91m::Irrational{:ℯ}\u001b[39m, ::Number) at mathconstants.jl:91\u001b[39m\n\u001b[91m\u001b[0m  ^(\u001b[91m::Float16\u001b[39m, ::Integer) at math.jl:915\u001b[39m\n\u001b[91m\u001b[0m  ...\u001b[39m",
      "",
      "Stacktrace:",
      " [1] macro expansion at ./none:0 [inlined]",
      " [2] literal_pow at ./none:0 [inlined]",
      " [3] f(::Array{Float64,1}) at ./In[21]:1",
      " [4] top-level scope at In[34]:1",
      " [5] include_string(::Function, ::Module, ::String, ::String) at ./loading.jl:1091"
     ]
    }
   ],
   "source": [
    "f(v)"
   ]
  },
  {
   "cell_type": "markdown",
   "id": "comfortable-junior",
   "metadata": {},
   "source": [
    "## Bibliografía\n",
    "\n",
    "JuliaAcademy: ***Introduction to Julia (for programmers)*** Dr. Jane Herriman *06. Functions*"
   ]
  },
  {
   "cell_type": "code",
   "execution_count": null,
   "id": "sporting-malta",
   "metadata": {},
   "outputs": [],
   "source": []
  }
 ],
 "metadata": {
  "kernelspec": {
   "display_name": "Julia 1.5.3",
   "language": "julia",
   "name": "julia-1.5"
  },
  "language_info": {
   "file_extension": ".jl",
   "mimetype": "application/julia",
   "name": "julia",
   "version": "1.5.3"
  }
 },
 "nbformat": 4,
 "nbformat_minor": 5
}
