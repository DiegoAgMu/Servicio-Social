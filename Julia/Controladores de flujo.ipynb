{
 "cells": [
  {
   "cell_type": "markdown",
   "id": "occupied-kinase",
   "metadata": {},
   "source": [
    "# Controladores de flujo\n",
    "\n",
    "En el siguiente notebook se describirán los controladores de flujo `while`, `for` e `if` y sus diferentes formas de implementarlos en Julia."
   ]
  },
  {
   "cell_type": "markdown",
   "id": "peaceful-seven",
   "metadata": {},
   "source": [
    "## While \n",
    "\n",
    "La sintaxis del controlador de flujo `while` está dada por:\n",
    "\n",
    "```julia\n",
    "while *condición*\n",
    "    *contenido*\n",
    "end\n",
    "```\n",
    "\n",
    "Este control de flujo puede ser principalmente usado para iterar sobre un arreglo, por ejemplo:"
   ]
  },
  {
   "cell_type": "code",
   "execution_count": 6,
   "id": "certified-paris",
   "metadata": {},
   "outputs": [
    {
     "name": "stdout",
     "output_type": "stream",
     "text": [
      "Hola Juan. ¿Cómo estás?\n",
      "Hola Pablo. ¿Cómo estás?\n",
      "Hola Ana. ¿Cómo estás?\n",
      "Hola Bruno. ¿Cómo estás?\n"
     ]
    }
   ],
   "source": [
    "amigos = [\"Juan\", \"Pablo\", \"Ana\", \"Bruno\"]\n",
    "\n",
    "i = 1\n",
    "while i <= length(amigos)\n",
    "    amigo = amigos[i]\n",
    "    println(\"Hola $amigo. ¿Cómo estás?\")\n",
    "    i += 1\n",
    "end"
   ]
  },
  {
   "cell_type": "markdown",
   "id": "devoted-accommodation",
   "metadata": {},
   "source": [
    "Aunque el ejemplo anterior funciona de buena manera, existe una forma en la que se puede realizar la misma acción sin la necesidad de definir una varibale de conteo como lo fue `i`, para esto se puede usar el control de flujo conocido como `for`\n",
    "\n",
    "## For\n",
    "\n",
    "En este caso, la sintaxis está dada por:\n",
    "\n",
    "```julia\n",
    "for *variable* in *iterador*\n",
    "    *contenido*\n",
    "end\n",
    "```\n",
    "\n",
    "Repitiendo el ejemplo anterior con este nuevo control de flujo\n",
    "\n",
    "#### Nota: \n",
    "Se puede sustituir `in` por `=`"
   ]
  },
  {
   "cell_type": "code",
   "execution_count": 9,
   "id": "western-convenience",
   "metadata": {},
   "outputs": [
    {
     "name": "stdout",
     "output_type": "stream",
     "text": [
      "Hola Juan. ¿Cómo estás?\n",
      "Hola Pablo. ¿Cómo estás?\n",
      "Hola Ana. ¿Cómo estás?\n",
      "Hola Bruno. ¿Cómo estás?\n"
     ]
    }
   ],
   "source": [
    "amigos = [\"Juan\", \"Pablo\", \"Ana\", \"Bruno\"]\n",
    "\n",
    "for amigo = amigos\n",
    "    println(\"Hola $amigo. ¿Cómo estás?\")\n",
    "end"
   ]
  },
  {
   "cell_type": "markdown",
   "id": "promising-still",
   "metadata": {},
   "source": [
    "Otro ejemplo con el que se van a poder mostrar diferentes formas de aplicar `for` es utilizando generando una tabla de sumas. Para esto podemos empezar generando un arreglo con ceros:"
   ]
  },
  {
   "cell_type": "code",
   "execution_count": 12,
   "id": "covered-monitoring",
   "metadata": {},
   "outputs": [
    {
     "data": {
      "text/plain": [
       "5×5 Array{Int64,2}:\n",
       " 0  0  0  0  0\n",
       " 0  0  0  0  0\n",
       " 0  0  0  0  0\n",
       " 0  0  0  0  0\n",
       " 0  0  0  0  0"
      ]
     },
     "execution_count": 12,
     "metadata": {},
     "output_type": "execute_result"
    }
   ],
   "source": [
    "m,n = 5, 5\n",
    "A = fill(0, (m, n))"
   ]
  },
  {
   "cell_type": "code",
   "execution_count": 13,
   "id": "ethical-ridge",
   "metadata": {},
   "outputs": [
    {
     "data": {
      "text/plain": [
       "5×5 Array{Int64,2}:\n",
       " 2  3  4  5   6\n",
       " 3  4  5  6   7\n",
       " 4  5  6  7   8\n",
       " 5  6  7  8   9\n",
       " 6  7  8  9  10"
      ]
     },
     "execution_count": 13,
     "metadata": {},
     "output_type": "execute_result"
    }
   ],
   "source": [
    "for i in 1:m\n",
    "    for j in 1:n\n",
    "        A[i, j] = i + j\n",
    "    end\n",
    "end\n",
    "A"
   ]
  },
  {
   "cell_type": "markdown",
   "id": "numerical-kernel",
   "metadata": {},
   "source": [
    "Se puede usar \"azúcar sintáctica\" para generar el mismo arreglo en un número menor de líneas"
   ]
  },
  {
   "cell_type": "code",
   "execution_count": 14,
   "id": "civilian-orleans",
   "metadata": {},
   "outputs": [
    {
     "data": {
      "text/plain": [
       "5×5 Array{Int64,2}:\n",
       " 2  3  4  5   6\n",
       " 3  4  5  6   7\n",
       " 4  5  6  7   8\n",
       " 5  6  7  8   9\n",
       " 6  7  8  9  10"
      ]
     },
     "execution_count": 14,
     "metadata": {},
     "output_type": "execute_result"
    }
   ],
   "source": [
    "for i in 1:m, j in 1:n\n",
    "    A[i, j] = i + j\n",
    "end\n",
    "A"
   ]
  },
  {
   "cell_type": "markdown",
   "id": "individual-manufacturer",
   "metadata": {},
   "source": [
    "Finalmente Julia nos permite generar el mismo arreglo en una sola línea"
   ]
  },
  {
   "cell_type": "code",
   "execution_count": 16,
   "id": "static-warrior",
   "metadata": {},
   "outputs": [
    {
     "data": {
      "text/plain": [
       "5×5 Array{Int64,2}:\n",
       " 2  3  4  5   6\n",
       " 3  4  5  6   7\n",
       " 4  5  6  7   8\n",
       " 5  6  7  8   9\n",
       " 6  7  8  9  10"
      ]
     },
     "execution_count": 16,
     "metadata": {},
     "output_type": "execute_result"
    }
   ],
   "source": [
    "C = [i + j for i = 1:m, j = 1:n]"
   ]
  },
  {
   "cell_type": "markdown",
   "id": "attached-window",
   "metadata": {},
   "source": [
    "## If\n",
    "\n",
    "La sintaxis de `if` está dada por:\n",
    "\n",
    "```julia\n",
    "if *condición 1*\n",
    "    *opción 1*\n",
    "elseif *condición 2*\n",
    "    *opción 2*\n",
    "else\n",
    "    *opción 3*\n",
    "end\n",
    "```\n",
    "Esto se puede mostrar en el siguiente ejemplo donde se definen 2 números y se utiliza una condicional para obtener el número más grande"
   ]
  },
  {
   "cell_type": "code",
   "execution_count": 17,
   "id": "narrow-version",
   "metadata": {},
   "outputs": [
    {
     "data": {
      "text/plain": [
       "13"
      ]
     },
     "execution_count": 17,
     "metadata": {},
     "output_type": "execute_result"
    }
   ],
   "source": [
    "x = 26\n",
    "y = 13"
   ]
  },
  {
   "cell_type": "code",
   "execution_count": 20,
   "id": "caring-breakdown",
   "metadata": {},
   "outputs": [
    {
     "data": {
      "text/plain": [
       "26"
      ]
     },
     "execution_count": 20,
     "metadata": {},
     "output_type": "execute_result"
    }
   ],
   "source": [
    "if x>y\n",
    "    x\n",
    "else\n",
    "    y\n",
    "end"
   ]
  },
  {
   "cell_type": "markdown",
   "id": "orange-aurora",
   "metadata": {},
   "source": [
    "Este ejemplo se puede reescribir en una sola linea utilizando un operador ternario cuya sintaxis está dada por\n",
    "\n",
    "```julia\n",
    "a ? b : c\n",
    "```"
   ]
  },
  {
   "cell_type": "code",
   "execution_count": 22,
   "id": "delayed-bottom",
   "metadata": {},
   "outputs": [
    {
     "data": {
      "text/plain": [
       "26"
      ]
     },
     "execution_count": 22,
     "metadata": {},
     "output_type": "execute_result"
    }
   ],
   "source": [
    "(x > y) ? x : y"
   ]
  },
  {
   "cell_type": "markdown",
   "id": "infectious-aaron",
   "metadata": {},
   "source": [
    "Otra forma de condicionales es por medio de evaluación de cortocircuito, la cual se escribe como:\n",
    "\n",
    "```julia\n",
    "a && b\n",
    "```\n",
    "\n",
    "Y significa que se ejecuta `b` si y sólo si `a` es cierto\n",
    "\n",
    "Por ejemplo:"
   ]
  },
  {
   "cell_type": "code",
   "execution_count": 23,
   "id": "direct-living",
   "metadata": {},
   "outputs": [
    {
     "name": "stdout",
     "output_type": "stream",
     "text": [
      "26 es más grande que 13\n"
     ]
    }
   ],
   "source": [
    "(x > y) && println(\"$x es más grande que $y\")"
   ]
  },
  {
   "cell_type": "code",
   "execution_count": 24,
   "id": "sonic-wright",
   "metadata": {},
   "outputs": [
    {
     "data": {
      "text/plain": [
       "false"
      ]
     },
     "execution_count": 24,
     "metadata": {},
     "output_type": "execute_result"
    }
   ],
   "source": [
    "(x < y) && println(\"$x es más pequeño que $y\")"
   ]
  },
  {
   "cell_type": "markdown",
   "id": "broken-eclipse",
   "metadata": {},
   "source": [
    "## Bibliografía\n",
    "\n",
    "JuliaAcademy: ***Introduction to Julia (for programmers)*** Dr. Jane Herriman *04. Loops* *05. Conditionals*"
   ]
  },
  {
   "cell_type": "code",
   "execution_count": null,
   "id": "rubber-parent",
   "metadata": {},
   "outputs": [],
   "source": []
  }
 ],
 "metadata": {
  "kernelspec": {
   "display_name": "Julia 1.5.3",
   "language": "julia",
   "name": "julia-1.5"
  },
  "language_info": {
   "file_extension": ".jl",
   "mimetype": "application/julia",
   "name": "julia",
   "version": "1.5.3"
  }
 },
 "nbformat": 4,
 "nbformat_minor": 5
}
