{
 "cells": [
  {
   "cell_type": "code",
   "execution_count": 1,
   "metadata": {},
   "outputs": [],
   "source": [
    "using Random\n",
    "using Plots"
   ]
  },
  {
   "cell_type": "code",
   "execution_count": 8,
   "metadata": {},
   "outputs": [
    {
     "data": {
      "text/plain": [
       "2-element Vector{Any}:\n",
       " 0\n",
       "  [0, 0]"
      ]
     },
     "execution_count": 8,
     "metadata": {},
     "output_type": "execute_result"
    }
   ],
   "source": [
    "#Parámetros para la simulación\n",
    "number_walkers = 50\n",
    "steps = 60000\n",
    "therm_step = 600\n",
    "therm = 10000\n",
    "trials1 = 24\n",
    "trials2 = 12\n",
    "dR = 1.0\n",
    "\n",
    "#Parámetro a variar para la función de onda de prueba\n",
    "A1 = 1.25\n",
    "dA1 = 0.025\n",
    "A2 = 1.9\n",
    "dA2 = 0.05\n",
    "\n",
    "# Almacenamiento de puntos para gráfica\n",
    "Y = Vector{Float64}()\n",
    "X = Vector{Float64}()\n",
    "for i in 0:(trials1-1)\n",
    "    push!(X, A1+i*dA1)\n",
    "end\n",
    "\n",
    "#Funciones de generación de puntos aleatorios\n",
    "DIST = 2\n",
    "function ran_pos()\n",
    "    DIST * (2*rand(0.1:0.001:1)-1)\n",
    "end\n",
    "\n",
    "function aleatorio()\n",
    "    rand(0.1:0.001:1)*2.0 -1.0\n",
    "end\n",
    "\n",
    "function norma(R::Vector{Vector{Float64}}, i)\n",
    "    sqrt(R[i][1]^2+R[i][2]^2+R[i][3]^2)\n",
    "end\n",
    "\n",
    "function distancia(R::Vector{Vector{Float64}})\n",
    "    sum = 0\n",
    "    for i in 1:3\n",
    "        sum += (R[2][i] - R[1][i])^2\n",
    "    end\n",
    "    sqrt(sum)\n",
    "end\n",
    "\n",
    "function dot(R::Vector{Vector{Float64}}, i)\n",
    "    sum = 0\n",
    "    for j in 1:3\n",
    "        sum += R[i][j]*(R[1][j] - R[2][j])\n",
    "    end\n",
    "    sum/(norma(R,i)*distancia(R))\n",
    "end\n",
    "\n",
    "#Función para generar nuevo paso\n",
    "function paso(R::Vector{Vector{Float64}})\n",
    "    R_nuevo = [[0.0,0.0,0.0],[0.0,0.0,0.0]]\n",
    "    for i in 1:2\n",
    "        for j in 1:3\n",
    "            R_nuevo[i][j] = R[i][j] + aleatorio()*dR\n",
    "        end\n",
    "    end\n",
    "    R_nuevo\n",
    "end\n",
    "\n",
    "# Distribución de probabilidad\n",
    "function prob(R::Vector{Vector{Float64}}, A::Vector{Float64})\n",
    "    r1 = norma(R,1)\n",
    "    r2 = norma(R,2)\n",
    "    (exp(-A[1]*(norma(R,1) + norma(R,2))))^2\n",
    "end\n",
    "\n",
    "#Energía local\n",
    "function energia(R::Vector{Vector{Float64}}, A::Vector{Float64})\n",
    "    r = distancia(R)\n",
    "    r1 = norma(R,1)\n",
    "    r2 = norma(R,2)\n",
    "    V = (2/r1 + 2/r2 - 1/r)\n",
    "    -A[1]^2 + A[1]/r1 + A[1]/r2 - V\n",
    "end\n",
    "\n",
    "#Obtener el valor mínimo\n",
    "B = [0,0]\n",
    "minimo = [0,B]"
   ]
  },
  {
   "cell_type": "code",
   "execution_count": 9,
   "metadata": {},
   "outputs": [
    {
     "data": {
      "image/png": "[encoded data removed]"
     },
     "metadata": {},
     "output_type": "display_data"
    },
    {
     "name": "stdout",
     "output_type": "stream",
     "text": [
      "Any[-3.188684257739892, [1.375, 1.9]]"
     ]
    }
   ],
   "source": [
    "for j in 0:(trials1-1)\n",
    "    avg = 0.0\n",
    "    A = [A1+j*dA1, A2]\n",
    "    for k in 0:(number_walkers-1)\n",
    "        #Punto inicial\n",
    "        R = [[ran_pos(),ran_pos(),ran_pos()],[ran_pos(),ran_pos(),ran_pos()]]\n",
    "        #Almacenar puntos Monte-Carlo\n",
    "        points = []\n",
    "        \n",
    "        for i in 0:(steps-1)\n",
    "            R_nuevo = paso(R)\n",
    "            \n",
    "            p = 0 \n",
    "            try\n",
    "                p = prob(R_nuevo, A)/prob(R,A)\n",
    "            catch DivideError\n",
    "                print(R,A)\n",
    "            end\n",
    "            if p >= rand(0.1:0.001:1)\n",
    "                R = R_nuevo\n",
    "            end\n",
    "            if i>therm\n",
    "                if (i-therm) % therm_step == 0\n",
    "                    push!(points, R)\n",
    "                end\n",
    "            end\n",
    "        end\n",
    "        sum = 0.0\n",
    "        for i in 1:length(points)\n",
    "            sum += energia(points[i], A)\n",
    "        end\n",
    "        avg += sum/length(points)\n",
    "    end\n",
    "    if avg/number_walkers < minimo[1]\n",
    "        minimo[1] = avg/number_walkers\n",
    "        minimo[2] = A\n",
    "    end\n",
    "    push!(Y, avg/number_walkers) \n",
    "end\n",
    "print(minimo)\n",
    "fig1 = plot(X,Y, seriestype = :scatter ,fmt = :png, title = \"Helio\", legend = false, xlabel = \"Alpha\", ylabel = \"Energía\")\n",
    "display(fig1)"
   ]
  },
  {
   "cell_type": "markdown",
   "metadata": {},
   "source": [
    "Por lo tanto la función de onda de prueba es $\\psi = e^{-1.375(r_1 + r_2)}$ con una energía de $E=-3.188$ Hartrees"
   ]
  }
 ],
 "metadata": {
  "interpreter": {
   "hash": "31f2aee4e71d21fbe5cf8b01ff0e069b9275f58929596ceb00d14d90e3e16cd6"
  },
  "kernelspec": {
   "display_name": "Julia 1.6.2",
   "language": "julia",
   "name": "julia-1.6"
  },
  "language_info": {
   "file_extension": ".jl",
   "mimetype": "application/julia",
   "name": "julia",
   "version": "1.6.2"
  },
  "orig_nbformat": 4
 },
 "nbformat": 4,
 "nbformat_minor": 2
}
