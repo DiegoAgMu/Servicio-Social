{
 "cells": [
  {
   "cell_type": "code",
   "execution_count": 1,
   "source": [
    "import math\n",
    "import random\n",
    "import matplotlib.pyplot as plt\n",
    "import numpy as np\n",
    "random.seed()"
   ],
   "outputs": [],
   "metadata": {}
  },
  {
   "cell_type": "code",
   "execution_count": 2,
   "source": [
    "number_walkers = 50\n",
    "steps = 60000\n",
    "therm_step = 600\n",
    "therm = 10000\n",
    "trials1 = 12\n",
    "trials2 = 12\n",
    "dR = 1"
   ],
   "outputs": [],
   "metadata": {}
  },
  {
   "cell_type": "code",
   "execution_count": 3,
   "source": [
    "A1 = 0.9\n",
    "dA1 = 0.05\n",
    "A2 = 1.9\n",
    "dA2 = 0.05"
   ],
   "outputs": [],
   "metadata": {}
  },
  {
   "cell_type": "code",
   "execution_count": 4,
   "source": [
    "DIST = 2\n",
    "def ran_pos():\n",
    "    return DIST * (2*random.random()-1)\n",
    "\n",
    "def rand():\n",
    "    return random.random()*2 - 1"
   ],
   "outputs": [],
   "metadata": {}
  },
  {
   "cell_type": "code",
   "execution_count": 5,
   "source": [
    "Y = []\n",
    "X = []\n",
    "for i in range(0,trials1):\n",
    "    X.append(A1+i*dA1)"
   ],
   "outputs": [],
   "metadata": {}
  },
  {
   "cell_type": "code",
   "execution_count": 6,
   "source": [
    "class Position:\n",
    "    def __init__(self, R):\n",
    "        self.R = R\n",
    "    \n",
    "    def norm(self, i):\n",
    "        return math.sqrt(self.R[i][0]**2+self.R[i][1]**2+self.R[i][2]**2)\n",
    "    \n",
    "    def dist(self):\n",
    "        sum = 0\n",
    "        for i in range(0,3):\n",
    "            sum += (self.R[1][i] - self.R[0][i])**2\n",
    "        return math.sqrt(sum)\n",
    "    \n",
    "    def dot(self,i):\n",
    "        sum = 0\n",
    "        for j in range(0,3):\n",
    "            sum += self.R[i][j]*(self.R[0][j] - self.R[1][j])\n",
    "        return sum/ (self.norm(i)*self.dist())\n",
    "    \n",
    "    #Nuevo punto\n",
    "    def step(self):\n",
    "        R_new = [[0,0,0],[0,0,0]]\n",
    "        for i in range(0,2):\n",
    "            for j in range(0,3):\n",
    "                R_new[i][j] = self.R[i][j] + rand()*dR\n",
    "        return R_new"
   ],
   "outputs": [],
   "metadata": {}
  },
  {
   "cell_type": "code",
   "execution_count": 7,
   "source": [
    "# Distribución de probabillidad\n",
    "def prob(R,A):\n",
    "    r1 = R.norm(0)\n",
    "    r2 = R.norm(1)\n",
    "    return (math.exp(-A[0]*(R.norm(0) + R.norm(1))))**2\n",
    "\n",
    "#Energía local\n",
    "def energy(R,A):\n",
    "    r = R.dist()\n",
    "    r1 = R.norm(0)\n",
    "    r2 = R.norm(1)\n",
    "    V = (2/r1 + 2/r2 - 1/r)\n",
    "    return -A[0]**2 + A[0]/r1 + A[0]/r2 - V\n",
    "\n",
    "#Obtener el valor mínimo\n",
    "B = [0,0]\n",
    "min = [0,B]"
   ],
   "outputs": [],
   "metadata": {}
  },
  {
   "cell_type": "code",
   "execution_count": 8,
   "source": [
    "for l in range(0,trials1):\n",
    "    avg = 0\n",
    "    A = [A1+l*dA1, A2]\n",
    "    # loop para multiples caminantes\n",
    "    for k in range(0,number_walkers):\n",
    "        #Punto inicial\n",
    "        Ri = [[ran_pos(), ran_pos(), ran_pos()], [ran_pos(), ran_pos(), ran_pos()]]\n",
    "        R = Position(Ri)\n",
    "        #Almacenar puntos Monte-Carlo\n",
    "        points = []\n",
    "        for i in range(0,steps):\n",
    "            #Generamos nuevo punto\n",
    "            R_new = Position(R.step())\n",
    "            #Probabilidad de aceptación\n",
    "            try:\n",
    "                    p = prob(R_new, A)/prob(R,A)\n",
    "            except ZeroDivisionError:\n",
    "                print(R,A)\n",
    "            \n",
    "            #checar si se acepta nueva posición\n",
    "            if p >= random.random():\n",
    "                R = R_new\n",
    "            \n",
    "            #Terminar\n",
    "            if i > therm:\n",
    "                if (i-therm) % therm_step == 0:\n",
    "                    points.append(R)\n",
    "        \n",
    "        #Evaluar integral\n",
    "        sum = 0\n",
    "        for i in range(0,len(points)):\n",
    "            sum += energy(points[i], A)\n",
    "        avg += sum/len(points)\n",
    "    del points\n",
    "    if avg/number_walkers < min[0]:\n",
    "        min[0] = avg/number_walkers\n",
    "        min[1] = A\n",
    "    \n",
    "    Y.append(avg/number_walkers)\n",
    "\n",
    "print(min)"
   ],
   "outputs": [
    {
     "output_type": "stream",
     "name": "stdout",
     "text": [
      "[-2.7849377006505964, [1.4500000000000002, 1.9]]\n"
     ]
    }
   ],
   "metadata": {}
  },
  {
   "cell_type": "code",
   "execution_count": 9,
   "source": [
    "plt.xlabel('Alpha')\n",
    "plt.ylabel('Energía')\n",
    "plt.plot(X,Y,'bo',X,Y)\n",
    "plt.grid(True)\n",
    "plt.show()"
   ],
   "outputs": [
    {
     "output_type": "display_data",
     "data": {
      "image/png": "[encoded data removed]",
      "text/plain": [
       "<Figure size 432x288 with 1 Axes>"
      ]
     },
     "metadata": {
      "needs_background": "light"
     }
    }
   ],
   "metadata": {}
  }
 ],
 "metadata": {
  "orig_nbformat": 4,
  "kernelspec": {
   "name": "python3",
   "display_name": "Python 3 (ipykernel)",
   "language": "python"
  },
  "interpreter": {
   "hash": "31f2aee4e71d21fbe5cf8b01ff0e069b9275f58929596ceb00d14d90e3e16cd6"
  },
  "language_info": {
   "name": "python",
   "version": "3.8.2",
   "mimetype": "text/x-python",
   "codemirror_mode": {
    "name": "ipython",
    "version": 3
   },
   "pygments_lexer": "ipython3",
   "nbconvert_exporter": "python",
   "file_extension": ".py"
  }
 },
 "nbformat": 4,
 "nbformat_minor": 2
}